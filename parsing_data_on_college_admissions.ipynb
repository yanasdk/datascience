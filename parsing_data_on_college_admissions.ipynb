{
 "cells": [
  {
   "cell_type": "markdown",
   "metadata": {},
   "source": [
    "# Parsing data on college admissions\n",
    "\n",
    "### <b> Задача:</b> автоматизировать сбор данных с сайтов приемных комиссий "
   ]
  },
  {
   "cell_type": "code",
   "execution_count": 3,
   "metadata": {},
   "outputs": [],
   "source": [
    "import requests\n",
    "import csv\n",
    "import bs4\n",
    "from bs4 import BeautifulSoup\n",
    "from urllib.request import urlopen\n",
    "import pandas as pd\n",
    "import time"
   ]
  },
  {
   "cell_type": "markdown",
   "metadata": {},
   "source": [
    "### Работа со списками, загруженными в pdf-формате \n",
    "1. Создаем датафрейм (список списков) формата [ссылка, номер вуза_номер ОП]\n",
    "2. Автоматизируем загрузку и переименование файлов циклом"
   ]
  },
  {
   "cell_type": "code",
   "execution_count": 6,
   "metadata": {},
   "outputs": [],
   "source": [
    "university =[[\"http://skspba.ru/wp-content/uploads/2019/07/spec2019recom.pdf\", \"640_40.05.01\"],\n",
    "[\"https://dgmu.ru/wp-content/uploads/2019/07/RANZHIROVANNYJ-PO-BALLAM-SPISOK-LITSpodavshih-zayavleniya-o-prieme-na-byudzhetnye-mesta-po-OBSHHEMU-KONKURSU_LECHEBNOE-DELO.pdf\", \"650_31.05.01\"],\n",
    "[\"https://dgmu.ru/wp-content/uploads/2019/07/RANZHIROVANNYJ-PO-BALLAM-SPISOK-LITSpodavshih-zayavleniya-o-prieme-na-byudzhetnye-mesta-po-OBSHHEMU-KONKURSU_PEDIATRIYA.pdf\", \"650_31.05.02\"],\n",
    "[\"https://dgmu.ru/wp-content/uploads/2019/07/RANZHIROVANNYJ-PO-BALLAM-SPISOK-LITSpodavshih-zayavleniya-o-prieme-na-byudzhetnye-mesta-po-OBSHHEMU-KONKURSU_STOMATOLOGIYA.pdf\", \"650_31.05.03\"],\n",
    "[\"https://dgmu.ru/wp-content/uploads/2019/07/RANZHIROVANNYJ-PO-BALLAM-SPISOK-LITSpodavshih-zayavleniya-o-prieme-na-byudzhetnye-mesta-po-OBSHHEMU-KONKURSU_MEDIKO-PROFILAKTICHESKOE-DELO.pdf\", \"650_32.05.01\"],\n",
    "[\"https://dgmu.ru/wp-content/uploads/2019/07/RANZHIROVANNYJ-PO-BALLAM-SPISOK-LITSpodavshih-zayavleniya-o-prieme-na-byudzhetnye-mesta-po-OBSHHEMU-KONKURSU_FARMATSIYA.pdf\", \"650_33.05.01\"],\n",
    "[\"http://www.ksma.ru/cms/files/2019_08_06_lb.pdf\", \"647_31.05.01\"],\n",
    "[\"http://www.ksma.ru/cms/files/2019_08_06_pb.pdf\", \"647_31.05.02\"],\n",
    "[\"http://www.ksma.ru/cms/files/2019_08_06_sb.pdf\", \"647_31.05.03\"],\n",
    "[\"http://www.ksma.ru/cms/files/2019_08_06_mb.pdf\", \"647_32.05.01\"],\n",
    "[\"http://www.ksma.ru/cms/files/2019_08_06_fb.pdf\", \"647_33.05.01\"],\n",
    "[\"http://www.hmgma.ru/upload/SPISKI_postupaiushchikh_na_spetcialitet(biudzhetnaia_osnova).pdf\", \"672_31.05.01\"]]\n",
    "\n",
    "date = time.strftime(\"%d%m_%H%M\", time.localtime())\n",
    "for i in range(len(university)):\n",
    "    name = university[i][1]\n",
    "    url = university[i][0]\n",
    "    vz = open(r'/Users/yanasidikova/Downloads'+'/'+name+\"_\"+date+'.pdf',\"wb\") \n",
    "    inf = requests.get(url)\n",
    "    vz.write(inf.content)\n",
    "    vz.close()"
   ]
  },
  {
   "cell_type": "markdown",
   "metadata": {},
   "source": [
    "### Работа со списками, содержащимися в коде html-страницы\n",
    "1. Создадим функцию, которая принимает на вход url-адрес страницы, номер таблицы на странице (начиная с 0) и требуемое название файла. Затем находит таблицу в коде страницы, создает csv-файл с определенным названием и построчно записывает в него найденный текст\n",
    "2. Подадим функции на вход наши аргументы"
   ]
  },
  {
   "cell_type": "code",
   "execution_count": 4,
   "metadata": {},
   "outputs": [],
   "source": [
    "def tablewriter(url, table_id, filename):\n",
    "    html = urlopen(url)\n",
    "    soup = BeautifulSoup(html, \"html.parser\")\n",
    "    table = soup.findAll(\"table\")[table_id]\n",
    "    rows = table.findAll(\"tr\")\n",
    "    date = time.strftime(\"%d%m_%H%M\", time.localtime())\n",
    "    with open('/Users/yanasidikova/Downloads'+'/'+filename+date+\".csv\", \"wt+\", newline=\"\") as f:\n",
    "        writer = csv.writer(f)\n",
    "        for row in rows:\n",
    "            csv_row = []\n",
    "            for cell in row.findAll([\"td\", \"th\"]):\n",
    "                csv_row.append(cell.get_text())\n",
    "            writer.writerow(csv_row)\n",
    "\n",
    "tablewriter(\"https://academy-andriaka.ru/entrant/spisok-ubiturientov-2019/\", 0, \"668_54.05.05_\")\n",
    "tablewriter(\"http://shepkinskoe.ru/applicants/specialty/schedule/workshop-straw/the-results-of-the-entrance-test/ranked-lists/pcc-descending/\", 0, \"670_52.05.01_\")\n",
    "tablewriter(\"https://isma.ivanovo.ru/storage/data/competitions/current_competitions_spec.html\", 0, \"652_31.05.01_\")\n",
    "tablewriter(\"https://isma.ivanovo.ru/storage/data/competitions/current_competitions_spec.html\", 2, \"652_31.05.02_\")\n",
    "tablewriter(\"https://isma.ivanovo.ru/storage/data/competitions/current_competitions_spec.html\", 4, \"652_31.05.03_\")"
   ]
  }
 ],
 "metadata": {
  "kernelspec": {
   "display_name": "Python 3",
   "language": "python",
   "name": "python3"
  },
  "language_info": {
   "codemirror_mode": {
    "name": "ipython",
    "version": 3
   },
   "file_extension": ".py",
   "mimetype": "text/x-python",
   "name": "python",
   "nbconvert_exporter": "python",
   "pygments_lexer": "ipython3",
   "version": "3.7.3"
  }
 },
 "nbformat": 4,
 "nbformat_minor": 2
}
